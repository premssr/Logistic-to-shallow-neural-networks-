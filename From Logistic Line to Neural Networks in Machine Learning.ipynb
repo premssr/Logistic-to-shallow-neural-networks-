{
 "cells": [
  {
   "cell_type": "code",
   "execution_count": 348,
   "metadata": {},
   "outputs": [],
   "source": [
    "import numpy as np\n",
    "import matplotlib.pyplot as plt"
   ]
  },
  {
   "cell_type": "markdown",
   "metadata": {},
   "source": [
    "Creating data and labeling them"
   ]
  },
  {
   "cell_type": "code",
   "execution_count": 349,
   "metadata": {},
   "outputs": [],
   "source": [
    "data = [[np.random.rand(), np.random.rand()] for i in range(10)]\n",
    "for i, point in enumerate(data):\n",
    "  x, y = point\n",
    "  if 0.5*x - y + 0.25 > 0:\n",
    "    data[i].append(0)\n",
    "  else:\n",
    "    data[i].append(1)"
   ]
  },
  {
   "cell_type": "markdown",
   "metadata": {},
   "source": [
    "PLoting Data"
   ]
  },
  {
   "cell_type": "code",
   "execution_count": 350,
   "metadata": {},
   "outputs": [
    {
     "data": {
      "image/png": "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\n",
      "text/plain": [
       "<Figure size 432x288 with 1 Axes>"
      ]
     },
     "metadata": {
      "needs_background": "light"
     },
     "output_type": "display_data"
    }
   ],
   "source": [
    "for x, y, l in data:\n",
    "  if l == 1: \n",
    "    clr = 'red'\n",
    "  else: \n",
    "    clr = 'blue'\n",
    "  plt.scatter(x, y, c=clr)\n",
    "  plt.xlim(0,1)\n",
    "  plt.ylim(0,1)"
   ]
  },
  {
   "cell_type": "code",
   "execution_count": 351,
   "metadata": {},
   "outputs": [
    {
     "name": "stdout",
     "output_type": "stream",
     "text": [
      "0.034248092301918054\n"
     ]
    },
    {
     "name": "stderr",
     "output_type": "stream",
     "text": [
      "C:\\Users\\prem\\Anaconda3\\lib\\site-packages\\sklearn\\linear_model\\logistic.py:432: FutureWarning: Default solver will be changed to 'lbfgs' in 0.22. Specify a solver to silence this warning.\n",
      "  FutureWarning)\n"
     ]
    }
   ],
   "source": [
    "from sklearn.linear_model import LogisticRegression\n",
    "\n",
    "\n",
    "data = np.asarray(data)\n",
    "X = data[:,:2]\n",
    "Y = data[:,2]\n",
    "print(X[2,0])\n",
    "\n",
    "clf = LogisticRegression().fit(X,Y)"
   ]
  },
  {
   "cell_type": "code",
   "execution_count": 352,
   "metadata": {},
   "outputs": [],
   "source": [
    "pred_ytrain=clf.predict(X)"
   ]
  },
  {
   "cell_type": "code",
   "execution_count": 353,
   "metadata": {},
   "outputs": [
    {
     "name": "stdout",
     "output_type": "stream",
     "text": [
      "[1. 0. 0. 1. 1. 0. 1. 1. 0. 0.]\n"
     ]
    }
   ],
   "source": [
    "print(pred_ytrain)"
   ]
  },
  {
   "cell_type": "code",
   "execution_count": 354,
   "metadata": {},
   "outputs": [
    {
     "data": {
      "image/png": "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\n",
      "text/plain": [
       "<Figure size 432x288 with 1 Axes>"
      ]
     },
     "metadata": {
      "needs_background": "light"
     },
     "output_type": "display_data"
    }
   ],
   "source": [
    "\n",
    "plt.xlim(0,1)\n",
    "for i in range(len(pred_ytrain)):\n",
    "    if(pred_ytrain[i]==1):\n",
    "        clr='red'\n",
    "    if(pred_ytrain[i]==0):\n",
    "        clr='blue'\n",
    "    plt.scatter(X[i,0],X[i,1],c=clr)"
   ]
  },
  {
   "cell_type": "code",
   "execution_count": 355,
   "metadata": {},
   "outputs": [],
   "source": [
    "X1space = np.linspace(0, 1, 100)\n",
    "X2space = np.linspace(0, 1, 100)\n",
    "\n",
    "  # Creating the array of testing points \n",
    "Xtest = []\n",
    "for i in range(100):\n",
    "    for j in range(100):        \n",
    "        Xtest.append([X1space[i],X2space[j]])\n",
    "Xtest = np.asarray(Xtest)"
   ]
  },
  {
   "cell_type": "code",
   "execution_count": 356,
   "metadata": {},
   "outputs": [
    {
     "data": {
      "image/png": "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\n",
      "text/plain": [
       "<Figure size 432x288 with 1 Axes>"
      ]
     },
     "metadata": {
      "needs_background": "light"
     },
     "output_type": "display_data"
    }
   ],
   "source": [
    "\n",
    "pred_ytrain=clf.predict(Xtest)\n",
    "plt.xlim(0,1)\n",
    "for i in range(len(pred_ytrain)):\n",
    "    if(pred_ytrain[i]==1):\n",
    "        clr='red'\n",
    "    if(pred_ytrain[i]==0):\n",
    "        clr='blue'\n",
    "    plt.scatter(Xtest[i,0],Xtest[i,1],c=clr)"
   ]
  },
  {
   "cell_type": "code",
   "execution_count": 411,
   "metadata": {},
   "outputs": [
    {
     "data": {
      "text/plain": [
       "array([[-0.17524034,  0.9009521 ]])"
      ]
     },
     "execution_count": 411,
     "metadata": {},
     "output_type": "execute_result"
    }
   ],
   "source": [
    "clf.coef_"
   ]
  },
  {
   "cell_type": "code",
   "execution_count": 412,
   "metadata": {},
   "outputs": [
    {
     "data": {
      "text/plain": [
       "-0.3199774198226405"
      ]
     },
     "execution_count": 412,
     "metadata": {},
     "output_type": "execute_result"
    }
   ],
   "source": [
    "clf.intercept_[0]"
   ]
  },
  {
   "cell_type": "code",
   "execution_count": 488,
   "metadata": {},
   "outputs": [
    {
     "data": {
      "text/plain": [
       "<matplotlib.legend.Legend at 0x1c84326f438>"
      ]
     },
     "execution_count": 488,
     "metadata": {},
     "output_type": "execute_result"
    },
    {
     "data": {
      "image/png": "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\n",
      "text/plain": [
       "<Figure size 432x288 with 1 Axes>"
      ]
     },
     "metadata": {
      "needs_background": "light"
     },
     "output_type": "display_data"
    }
   ],
   "source": [
    "x_points = np.linspace(0,1,1000)\n",
    "\n",
    "# Defining and plotting the predicted line \n",
    "y_pred = -(clf.coef_[0][0]*x_points + clf.intercept_[0])/clf.coef_[0][1]\n",
    "plt.xlim(0,1)\n",
    "plt.ylim(0,1)\n",
    "plt.plot(x_points, y_pred,'-r', label = 'Pred line')\n",
    "\n",
    "\n",
    "y_act = (0.5*x_points + 0.25)\n",
    "plt.plot(x_points, y_act, '-b', label = 'Act line')\n",
    "plt.legend()\n"
   ]
  },
  {
   "cell_type": "code",
   "execution_count": null,
   "metadata": {},
   "outputs": [],
   "source": []
  },
  {
   "cell_type": "markdown",
   "metadata": {},
   "source": [
    "NOw we will try to clasify the same with Neural network perspective"
   ]
  },
  {
   "cell_type": "code",
   "execution_count": 431,
   "metadata": {},
   "outputs": [],
   "source": [
    "def sigmoid(z):\n",
    "   \n",
    "    s = 1/(1+np.exp(-z))\n",
    " \n",
    "    return s"
   ]
  },
  {
   "cell_type": "code",
   "execution_count": 482,
   "metadata": {},
   "outputs": [],
   "source": [
    "def initialize(dim):\n",
    "\n",
    "    w = np.zeros((dim,1))\n",
    "    b = 0\n",
    "    \n",
    "    return w, b"
   ]
  },
  {
   "cell_type": "code",
   "execution_count": 510,
   "metadata": {},
   "outputs": [],
   "source": [
    "\n",
    "def for_bac_propagate(w, b, X, Y):\n",
    "    \n",
    "    m = X.shape[1]\n",
    "    #print(w.T.shape)\n",
    "    #print(X.shape)\n",
    "    #print(Y.shape)\n",
    "\n",
    "    A = sigmoid(np.dot(w.T,X)+b).T \n",
    "    #print(A.shape)\n",
    "\n",
    "    cost = -(np.dot(Y.T,np.log(A))+np.dot((1-Y).T,np.log(1-A)))/m    \n",
    "    \n",
    "    dw = (np.dot(X,(A-Y)))/m\n",
    "    db = np.sum(A-Y)/m\n",
    "   \n",
    "    cost = np.squeeze(cost)\n",
    "   \n",
    "    \n",
    "    grads = {\"dw\": dw,\n",
    "             \"db\": db}\n",
    "    \n",
    "    return grads, cost"
   ]
  },
  {
   "cell_type": "code",
   "execution_count": 511,
   "metadata": {},
   "outputs": [],
   "source": [
    "def optimize(w, b, X, Y, num_iterations, learning_rate):\n",
    "    costs = []\n",
    "    for i in range(num_iterations):\n",
    "        grads, cost = for_bac_propagate(w,b,X,Y)\n",
    "        \n",
    "        dw = grads[\"dw\"]\n",
    "        db = grads[\"db\"]\n",
    "\n",
    "        w = w-learning_rate*dw\n",
    "        b = b-learning_rate*db\n",
    "      \n",
    "    \n",
    "    params = {\"w\": w,\n",
    "              \"b\": b}\n",
    "    \n",
    "    grads = {\"dw\": dw,\n",
    "             \"db\": db}\n",
    "    \n",
    "    return params, grads, costs"
   ]
  },
  {
   "cell_type": "code",
   "execution_count": 512,
   "metadata": {},
   "outputs": [],
   "source": [
    "\n",
    "\n",
    "def predict(w, b, X):\n",
    "    \n",
    "    \n",
    "    m = X.shape[1]\n",
    "    Y_prediction = np.ones((1,m))\n",
    "    w = w.reshape(X.shape[0], 1)\n",
    "    \n",
    "    \n",
    "    A = sigmoid(np.dot(w.T,X))\n",
    "    \n",
    "    \n",
    "    for i in range(A.shape[1]):\n",
    "        \n",
    "        if A[0,i]<=0.5:\n",
    "            Y_prediction[:,i]=1\n",
    "        else:\n",
    "            Y_prediction[:,i]=0\n",
    "            \n",
    " \n",
    "    \n",
    "    assert(Y_prediction.shape == (1, m))\n",
    "    \n",
    "    return Y_prediction"
   ]
  },
  {
   "cell_type": "code",
   "execution_count": 513,
   "metadata": {},
   "outputs": [],
   "source": [
    "\n",
    "\n",
    "def NeuralNetworks(X_train, Y_train, num_iterations = 500, learning_rate = 0.5, print_cost = False):\n",
    "    \n",
    "    \n",
    "    \n",
    "    w, b = initialize(X_train.shape[0])\n",
    "\n",
    "    \n",
    "    parameters, grads, costs = optimize(w, b, X_train, Y_train, num_iterations, learning_rate)\n",
    "    \n",
    "    \n",
    "    w = parameters[\"w\"]\n",
    "    b = parameters[\"b\"]\n",
    "    \n",
    "    \n",
    "    \n",
    "    Y_prediction = predict(w,b,X_train)\n",
    "\n",
    "   \n",
    "   \n",
    "    \n",
    "    model = {\"costs\": costs,\n",
    "         \"Y_prediction\" : Y_prediction, \n",
    "         \"w\" : w, \n",
    "         \"b\" : b,\n",
    "         \"learning_rate\" : learning_rate,\n",
    "         \"num_iterations\": num_iterations}\n",
    "    \n",
    "    return d"
   ]
  },
  {
   "cell_type": "code",
   "execution_count": 514,
   "metadata": {},
   "outputs": [
    {
     "name": "stdout",
     "output_type": "stream",
     "text": [
      "(10, 1) (2, 10)\n",
      "0.6\n"
     ]
    }
   ],
   "source": [
    "X = data[:,:2].T\n",
    "Y = data[:,2].reshape(10,1)\n",
    "\n",
    "model = NeuralNetworks(X, Y, num_iterations = 1000, learning_rate = 0.6, print_cost = True)\n",
    "\n",
    "\n",
    "\n",
    "\n"
   ]
  },
  {
   "cell_type": "code",
   "execution_count": 494,
   "metadata": {},
   "outputs": [],
   "source": [
    "Ytest=np.dot(Xtest,d['w'])"
   ]
  },
  {
   "cell_type": "code",
   "execution_count": 479,
   "metadata": {},
   "outputs": [
    {
     "data": {
      "image/png": "iVBORw0KGgoAAAANSUhEUgAAAXwAAAD4CAYAAADvsV2wAAAABHNCSVQICAgIfAhkiAAAAAlwSFlzAAALEgAACxIB0t1+/AAAADh0RVh0U29mdHdhcmUAbWF0cGxvdGxpYiB2ZXJzaW9uMy4xLjAsIGh0dHA6Ly9tYXRwbG90bGliLm9yZy+17YcXAAAQUUlEQVR4nO3dbYilZ33H8e/PXaOo8YFsBNndZCPdFJe0EDPElIIPxJZNXuy+SWW3FR8ISUkbC1WkKZYq8U2rFKmQoisGNUVj9IUOomxBI4q4IRNSg5uwMN3Y7BBposZQm2rc5N8X5zQ7OTmz594z52Fmru8HLnLf57rmvv+5OPPb69z3nHNSVUiStr4XzbsASdJsGPiS1AgDX5IaYeBLUiMMfElqxPZ5nXjHjh21Z8+eeZ1ekjal++6772dVdeE4Pzu3wN+zZw9LS0vzOr0kbUpJ/nPcn/WSjiQ1wsCXpEYY+JLUCANfkhph4EtSIwx8SWqEgS9JjTDwJakVVXXWBtwOPAb8eI3+AJ8EloEHgDeOOmZVcQVUXXBBryVVF19cddNNvf8m3ftmeYyteq7NVq9zs3XqdW7OedwVUF0ydljLqC9ASfJm4FfAF6rqsiH91wLvA64F3gT8c1W9adQ/NAtJ+T5bSTo3C8BSVcb52ZGXdKrqe8AvzjLkIL1/DKqqjgGvTvK6cYqRJE3PJK7h7wROrdpf6T/2AkluTLKUZOnxCZxYktTdJAJ/2EuLodeJqupIVS1U1cJYH/UmSRrbJAJ/Bdi9an8X8OgEjitJmqBJBP4i8K70XAU8WVU/ncBxJUkTNPLz8JN8CXgrsCPJCvBh4MUAVfUp4Jv0/kJnGXgKeO+0ipUkjW9k4FfV4RH9BfzlxCqSJE2F77SVpEYY+JLUCANfkhph4EtSIwx8SWqEgS9JjTDwJakRBr4kNcLAl6RGGPiS1AgDX5IaYeBLUiMMfElqhIEvSY0w8CWpEQa+JDXCwJekRhj4ktQIA1+SGmHgS1IjDHxJaoSBL0mNMPAlqREGviQ1wsCXpEYY+JLUCANfkhph4EtSIwx8SWpEp8BPsj/JiSTLSW4Z0n9RkruT3J/kgSTXTr5USdJ6jAz8JNuA24BrgH3A4ST7Bob9HXBXVV0OHAL+ZdKFSpLWp8sK/0pguapOVtXTwJ3AwYExBbyyv/0q4NHJlShJmoTtHcbsBE6t2l8B3jQw5iPAvyV5H/By4O0TqU6SNDFdVvgZ8lgN7B8GPldVu4BrgTuSvODYSW5MspRk6fFzr1WStA5dAn8F2L1qfxcvvGRzPXAXQFX9EHgpsGPwQFV1pKoWqmrhwvHqlSSNqUvg3wvsTXJJkvPo3ZRdHBjzCHA1QJI30At8F/GStIGMDPyqOg3cDBwFHqL31zjHk9ya5EB/2AeAG5L8CPgS8J6qGrzsI0mao8wrlxeSWprLmSVp81oAlqqG3VsdyXfaSlIjDHxJaoSBL0mNMPAlqREGviQ1wsCXpEYY+JLUCANfkhph4EtSIwx8SWqEgS9JjTDwJakRBr4kNcLAl6RGGPiS1AgDX5IaYeBLUiMMfElqhIEvSY0w8CWpEQa+JDXCwJekRhj4ktQIA1+SGmHgS1IjDHxJaoSBL0mNMPAlqREGviQ1wsCXpEZ0Cvwk+5OcSLKc5JY1xrwjyYNJjif54mTLlCSt1/ZRA5JsA24D/ghYAe5NslhVD64asxf4W+APq+qJJK+dVsGSpPF0WeFfCSxX1cmqehq4Ezg4MOYG4LaqegKgqh6bbJmSpPXqEvg7gVOr9lf6j612KXBpkh8kOZZk/7ADJbkxyVKSpcfHq1eSNKaRl3SADHmshhxnL/BWYBfw/SSXVdUvn/dDVUeAIwALyeAxJElT1GWFvwLsXrW/C3h0yJivV9Vvq+ph4AS9fwAkSRtEl8C/F9ib5JIk5wGHgMWBMV8D3gaQZAe9SzwnJ1moJGl9RgZ+VZ0GbgaOAg8Bd1XV8SS3JjnQH3YU+HmSB4G7gQ9W1c+nVbQk6dylaj6X0heSWprLmSVp81oAlqqG3VsdyXfaSlIjDHxJaoSBL0mNMPAlqREGviQ1wsCXpEYY+JLUCANfkhph4EtSIwx8SWqEgS9JjTDwJakRBr4kNcLAl6RGGPiS1AgDX5IaYeBLUiMMfElqhIEvSY0w8CWpEQa+JDXCwJekRhj4ktQIA1+SGmHgS1IjDHxJaoSBL0mNMPAlqREGviQ1olPgJ9mf5ESS5SS3nGXcdUkqycLkSpQkTcLIwE+yDbgNuAbYBxxOsm/IuPOBvwLumXSRkqT167LCvxJYrqqTVfU0cCdwcMi4jwIfA349wfokSRPSJfB3AqdW7a/0H3tOksuB3VX1jbMdKMmNSZaSLD1+zqVKktajS+BnyGP1XGfyIuATwAdGHaiqjlTVQlUtXNi9RknSBHQJ/BVg96r9XcCjq/bPBy4DvpvkJ8BVwKI3biVpY+kS+PcCe5NckuQ84BCw+P+dVfVkVe2oqj1VtQc4BhyoqqWpVCxJGsvIwK+q08DNwFHgIeCuqjqe5NYkB6ZdoCRpMlJVo0dNwULiSwBJOkcLwFLVsHurI/lOW0lqhIEvSY0w8CWpEQa+JDXCwJekRhj4ktQIA1+SGmHgS1IjDHxJaoSBL0mNMPAlqREGviQ1wsCXpEYY+JLUCANfkhph4EtSIwx8SWqEgS9JjTDwJakRBr4kNcLAl6RGGPiS1AgDX5IaYeBLUiMMfElqhIEvSY0w8CWpEQa+JDXCwJekRnQK/CT7k5xIspzkliH970/yYJIHknw7ycWTL1WStB4jAz/JNuA24BpgH3A4yb6BYfcDC1X1+8BXgY9NulBJ0vp0WeFfCSxX1cmqehq4Ezi4ekBV3V1VT/V3jwG7JlumJGm9ugT+TuDUqv2V/mNruR741nqKkiRN3vYOYzLksRo6MHknsAC8ZY3+G4EbAS7qWKAkaTK6rPBXgN2r9ncBjw4OSvJ24EPAgar6zbADVdWRqlqoqoULx6lWkjS2LoF/L7A3ySVJzgMOAYurByS5HPg0vbB/bPJlSpLWa2TgV9Vp4GbgKPAQcFdVHU9ya5ID/WEfB14BfCXJvydZXONwkqQ5SdXQy/FTt5DU0lzOLEmb1wKwVDXs3upIvtNWkhph4EtSIwx8SWqEgS9JjTDwJakRBr4kNcLAl6RGGPiS1AgDX5IaYeBLUiMMfElqhIEvSY0w8CVpDLXG9tn6JjFuPQx8SXPx7MCX6a3e79o3y2MMjltZ9dXdKwNf471W3yTGrYeBL2lOuq53z9Y3y2M8f9zf8A/8Dy97wfbZ+iYxbl2qai7tCqiy2Wzn3J5dY/tsfZMeN4ljPMxFzxu3er9r3yyPMTgOnq3D/Gs9zMXP236GrNk3iXFXQI2bu2P9kIFvs82v/YxXD90+W9+kx03iGH/GF+pXvGzofte+WR5jcFw4PaenwBUGvs3Wtc1yFTuNcx3mjvpfXvyC7bP1TXrcJI4Bz3Ra7U5ixTytVfd8nsIGvs3WuZ1i55r7XfsmPe5cjrGN3z4XPKu3nyFr9k163KTOtQGeDpuwGfi2GbSNcN13Euc6zB3Pe2m+er9r36THncsx4Jl5PxVsc20Gvm0GbZar2Gmea9ar2GmcawM8HWxzawb+pmgb8S8lzuUYs1zFTvNcrpBtm7sZ+JuizfO67zSvHW/GFfMGeDrYbGO2hgK/hWvHs1wxn8sxXBnbbBuhNRT4LVw7nuWK2WvHNttma1sg8LuumL12bLPZ2m6bMPB/b9UbM4ruK2avHdtstrbb+IGfqlr/B/KM4YK8vh7hv3g5TwHwp9zBZ/hzXs5Tz9se7AvP4Ge+SWrXAlVLGT3uheaWnL/gNdzAEX7CxTxLuItDz+2v3h7s28az8ypZkja1ua3wk4WCpbmcW5I2rymv8JPsT3IiyXKSW4b0vyTJl/v99yTZM04xkqTpGRn4SbYBtwHXAPuAw0n2DQy7Hniiqn4H+ATwj5MuVJK0Pl1W+FcCy1V1sqqeBu4EDg6MOQh8vr/9VeDqJGO95JAkTUeXwN8JnFq1v9J/bOiYqjoNPAlcMHigJDcmWUqyBI+PV7EkaSxdAn/YSn3wTm+XMVTVkapaqKoFuLBLfZKkCekS+CvA7lX7u4BH1xqTZDvwKuAXkyhQkjQZXQL/XmBvkkuSnAccAhYHxiwC7+5vXwd8pzr8vecFF/RaAhdfDDfd1Ptv0r1vlsfYqufabPU6N1unXufm3Metx/ZRA6rqdJKbgaPANuD2qjqe5FZgqaoWgc8CdyRZpreyPzTquFdcAUv+Gb4knZPkvvvG/dmRgQ9QVd8Evjnw2N+v2v418CfjFiFJmj4/lEaSGmHgS1IjDHxJaoSBL0mNMPAlqREGviQ1wsCXpEbM8QtQ8t/AibmcfOPZAfxs3kVsEM7FGc7FGc7FGb9bVeeP84Od3ng1JSd6H6KmJEvORY9zcYZzcYZzcUbv04bH4yUdSWqEgS9JjZhn4B+Z47k3GufiDOfiDOfiDOfijLHnYm43bSVJs+UlHUlqhIEvSY2YeuAn2Z/kRJLlJLcM6X9Jki/3++9JsmfaNc1Lh7l4f5IHkzyQ5NtJ1vn9NhvXqLlYNe66JJVky/5JXpe5SPKO/nPjeJIvzrrGWenwO3JRkruT3N//Pbl2HnVOW5LbkzyW5Mdr9CfJJ/vz9ECSN3Y6cFVNrdH7hqz/AF4PnAf8CNg3MOYvgE/1tw8BX55mTfNqHefibcDL+ts3tTwX/XHnA98DjgEL8657js+LvcD9wGv6+6+dd91znIsjwE397X3AT+Zd95Tm4s3AG4Efr9F/LfAtIMBVwD1djjvtFf6VwHJVnayqp4E7gYMDYw4Cn+9vfxW4OkmmXNc8jJyLqrq7qp7q7x6j94XxW1GX5wXAR4GPAb+eZXEz1mUubgBuq6onAKrqsRnXOCtd5qKAV/a3XwU8OsP6Zqaqvkfv62LXchD4QvUcA16d5HWjjjvtwN8JnFq1v9J/bOiYqjoNPAlcMOW65qHLXKx2Pb1/wbeikXOR5HJgd1V9Y5aFzUGX58WlwKVJfpDkWJL9M6tutrrMxUeAdyZZofe1q++bTWkbzrnmCTD9j1YYtlIf/DvQLmO2gs7/n0neCSwAb5lqRfNz1rlI8iLgE8B7ZlXQHHV5Xmynd1nnrfRe9X0/yWVV9csp1zZrXebiMPC5qvqnJH8A3NGfi2enX96GMlZuTnuFvwLsXrW/ixe+BHtuTJLt9F6mne2lzGbVZS5I8nbgQ8CBqvrNjGqbtVFzcT5wGfDdJD+hd41ycYveuO36O/L1qvptVT1M70MH986ovlnqMhfXA3cBVNUPgZfS+2C11nTKk0HTDvx7gb1JLklyHr2bsosDYxaBd/e3rwO+U/27ElvMyLnoX8b4NL2w36rXaWHEXFTVk1W1o6r2VNUeevczDlTV2B8atYF1+R35Gr0b+iTZQe8Sz8mZVjkbXebiEeBqgCRvoBf4j8+0yo1hEXhX/691rgKerKqfjvqhqV7SqarTSW4GjtK7A397VR1PciuwVFWLwGfpvSxbpreyPzTNmual41x8HHgF8JX+fetHqurA3Iqeko5z0YSOc3EU+OMkDwLPAB+sqp/Pr+rp6DgXHwA+k+Sv6V3CeM9WXCAm+RK9S3g7+vcrPgy8GKCqPkXv/sW1wDLwFPDeTsfdgnMlSRrCd9pKUiMMfElqhIEvSY0w8CWpEQa+JDXCwJekRhj4ktSI/wPXGPUdBIZ8cQAAAABJRU5ErkJggg==\n",
      "text/plain": [
       "<Figure size 432x288 with 1 Axes>"
      ]
     },
     "metadata": {
      "needs_background": "light"
     },
     "output_type": "display_data"
    }
   ],
   "source": [
    "plt.xlim(0,1)\n",
    "for i in range(len(Ytest)):\n",
    "    if(Ytest[i]>=0.5):\n",
    "        clr='red'\n",
    "    if(Ytest[i]<0.5):\n",
    "        clr='blue'\n",
    "    plt.scatter(Xtest[i,0],Xtest[i,1],c=clr)"
   ]
  },
  {
   "cell_type": "code",
   "execution_count": 515,
   "metadata": {},
   "outputs": [
    {
     "data": {
      "text/plain": [
       "<matplotlib.legend.Legend at 0x1c843b67b00>"
      ]
     },
     "execution_count": 515,
     "metadata": {},
     "output_type": "execute_result"
    },
    {
     "data": {
      "image/png": "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\n",
      "text/plain": [
       "<Figure size 432x288 with 1 Axes>"
      ]
     },
     "metadata": {
      "needs_background": "light"
     },
     "output_type": "display_data"
    }
   ],
   "source": [
    "x_points = np.linspace(0,1,1000)\n",
    "\n",
    "# Defining and plotting the predicted line \n",
    "y_pred = -(model['w'][1][0]*x_points + model['w'][0][0])/model[\"b\"]\n",
    "#plt.xlim(0,1)\n",
    "#plt.ylim(0,1)\n",
    "plt.plot(x_points, y_pred,'-r', label = 'Pred line')\n",
    "\n",
    "\n",
    "y_act = (0.5*x_points + 0.25)\n",
    "plt.plot(x_points, y_act, '-b', label = 'Act line')\n",
    "plt.legend()"
   ]
  },
  {
   "cell_type": "code",
   "execution_count": null,
   "metadata": {},
   "outputs": [],
   "source": []
  },
 
